{
 "cells": [
  {
   "cell_type": "markdown",
   "metadata": {},
   "source": [
    "### NEW\n",
    "\n",
    "In this workshop, we will learn the basics on Machine Learning by being hands-on - no math knowledge required!!\n",
    "\n",
    "We will create some basic machine learning models and use them to make predictions.\n",
    "\n",
    "We are NOT attempting to teach you to become a datascientist!!"
   ]
  }
  }
